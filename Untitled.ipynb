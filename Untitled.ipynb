{
 "cells": [
  {
   "cell_type": "markdown",
   "id": "a0fa9f39",
   "metadata": {},
   "source": [
    "# Music recommender system\n",
    "\n",
    "One of the most used machine learning algorithms is recommendation systems. A recommender (or recommendation) system (or engine) is a filtering system which aim is to predict a rating or preference a user would give to an item, eg. a film, a product, a song, etc.\n",
    "\n",
    "Which type of recommender can we have?\n",
    "\n",
    "There are two main types of recommender systems: \n",
    "\n",
    "    Content-based filters\n",
    "    Collaborative filters\n",
    "\n",
    "    Content-based filters predicts what a user likes based on what that particular user has liked in the past. On the other hand, collaborative-based filters predict what a user like based on what other users, that are similar to that particular user, have liked.\n",
    "\n",
    "1) Content-based filters\n",
    "\n",
    "Recommendations done using content-based recommenders can be seen as a user-specific classification problem. This classifier learns the user's likes and dislikes from the features of the song.\n",
    "\n",
    "The most straightforward approach is keyword matching.\n",
    "\n",
    "In a few words, the idea behind is to extract meaningful keywords present in a song description a user likes, search for the keywords in other song descriptions to estimate similarities among them, and based on that, recommend those songs to the user.\n",
    "\n",
    "How is this performed?\n",
    "\n",
    "In our case, because we are working with text and words, Term Frequency-Inverse Document Frequency (TF-IDF) can be used for this matching process.\n",
    "\n",
    "We'll go through the steps for generating a content-based music recommender system.\n",
    "Importing required libraries\n",
    "\n",
    "\n"
   ]
  },
  {
   "cell_type": "markdown",
   "id": "cd78d835",
   "metadata": {},
   "source": [
    "# First, we'll import all the required libraries."
   ]
  },
  {
   "cell_type": "code",
   "execution_count": 1,
   "id": "e48ef374",
   "metadata": {},
   "outputs": [],
   "source": [
    "import numpy as np\n",
    "import pandas as pd"
   ]
  },
  {
   "cell_type": "code",
   "execution_count": 2,
   "id": "6f84f9f7",
   "metadata": {},
   "outputs": [],
   "source": [
    "from typing import List, Dict"
   ]
  },
  {
   "cell_type": "markdown",
   "id": "8c1c9406",
   "metadata": {},
   "source": [
    "We are going to use TfidfVectorizer from the Scikit-learn package.\n",
    "Term frequency-inverse document frequency is a text vectorizer that transforms the text into a usable vector. It combines 2 concepts, Term Frequency (TF) and Document Frequency (DF)."
   ]
  },
  {
   "cell_type": "code",
   "execution_count": 3,
   "id": "c4c6462b",
   "metadata": {},
   "outputs": [],
   "source": [
    "from sklearn.feature_extraction.text import TfidfVectorizer\n",
    "from sklearn.metrics.pairwise import cosine_similarity"
   ]
  },
  {
   "cell_type": "markdown",
   "id": "f09f8ea5",
   "metadata": {},
   "source": [
    "#  \n",
    "Dataset\n",
    "\n",
    "So imagine that we have the following dataset. \n",
    "\n",
    "This dataset contains name, artist, and lyrics for 57650 songs in English."
   ]
  },
  {
   "cell_type": "code",
   "execution_count": 4,
   "id": "6fefab29",
   "metadata": {},
   "outputs": [],
   "source": [
    "songs = pd.read_csv('datasong.csv')"
   ]
  },
  {
   "cell_type": "code",
   "execution_count": 5,
   "id": "da82817c",
   "metadata": {},
   "outputs": [
    {
     "data": {
      "text/html": [
       "<div>\n",
       "<style scoped>\n",
       "    .dataframe tbody tr th:only-of-type {\n",
       "        vertical-align: middle;\n",
       "    }\n",
       "\n",
       "    .dataframe tbody tr th {\n",
       "        vertical-align: top;\n",
       "    }\n",
       "\n",
       "    .dataframe thead th {\n",
       "        text-align: right;\n",
       "    }\n",
       "</style>\n",
       "<table border=\"1\" class=\"dataframe\">\n",
       "  <thead>\n",
       "    <tr style=\"text-align: right;\">\n",
       "      <th></th>\n",
       "      <th>artist</th>\n",
       "      <th>song</th>\n",
       "      <th>link</th>\n",
       "      <th>text</th>\n",
       "    </tr>\n",
       "  </thead>\n",
       "  <tbody>\n",
       "    <tr>\n",
       "      <th>0</th>\n",
       "      <td>ABBA</td>\n",
       "      <td>Ahe's My Kind Of Girl</td>\n",
       "      <td>/a/abba/ahes+my+kind+of+girl_20598417.html</td>\n",
       "      <td>Look at her face, it's a wonderful face  \\nAnd...</td>\n",
       "    </tr>\n",
       "    <tr>\n",
       "      <th>1</th>\n",
       "      <td>ABBA</td>\n",
       "      <td>Andante, Andante</td>\n",
       "      <td>/a/abba/andante+andante_20002708.html</td>\n",
       "      <td>Take it easy with me, please  \\nTouch me gentl...</td>\n",
       "    </tr>\n",
       "    <tr>\n",
       "      <th>2</th>\n",
       "      <td>ABBA</td>\n",
       "      <td>As Good As New</td>\n",
       "      <td>/a/abba/as+good+as+new_20003033.html</td>\n",
       "      <td>I'll never know why I had to go  \\nWhy I had t...</td>\n",
       "    </tr>\n",
       "    <tr>\n",
       "      <th>3</th>\n",
       "      <td>ABBA</td>\n",
       "      <td>Bang</td>\n",
       "      <td>/a/abba/bang_20598415.html</td>\n",
       "      <td>Making somebody happy is a question of give an...</td>\n",
       "    </tr>\n",
       "    <tr>\n",
       "      <th>4</th>\n",
       "      <td>ABBA</td>\n",
       "      <td>Bang-A-Boomerang</td>\n",
       "      <td>/a/abba/bang+a+boomerang_20002668.html</td>\n",
       "      <td>Making somebody happy is a question of give an...</td>\n",
       "    </tr>\n",
       "  </tbody>\n",
       "</table>\n",
       "</div>"
      ],
      "text/plain": [
       "  artist                   song                                        link  \\\n",
       "0   ABBA  Ahe's My Kind Of Girl  /a/abba/ahes+my+kind+of+girl_20598417.html   \n",
       "1   ABBA       Andante, Andante       /a/abba/andante+andante_20002708.html   \n",
       "2   ABBA         As Good As New        /a/abba/as+good+as+new_20003033.html   \n",
       "3   ABBA                   Bang                  /a/abba/bang_20598415.html   \n",
       "4   ABBA       Bang-A-Boomerang      /a/abba/bang+a+boomerang_20002668.html   \n",
       "\n",
       "                                                text  \n",
       "0  Look at her face, it's a wonderful face  \\nAnd...  \n",
       "1  Take it easy with me, please  \\nTouch me gentl...  \n",
       "2  I'll never know why I had to go  \\nWhy I had t...  \n",
       "3  Making somebody happy is a question of give an...  \n",
       "4  Making somebody happy is a question of give an...  "
      ]
     },
     "execution_count": 5,
     "metadata": {},
     "output_type": "execute_result"
    }
   ],
   "source": [
    "songs.head()"
   ]
  },
  {
   "cell_type": "markdown",
   "id": "afbce207",
   "metadata": {},
   "source": [
    "Because of the dataset being so big, we are going to resample only 6000 random songs."
   ]
  },
  {
   "cell_type": "code",
   "execution_count": 6,
   "id": "77a0bd43",
   "metadata": {},
   "outputs": [],
   "source": [
    "songs = songs.sample(n=6000).drop('link', axis=1).reset_index(drop=True)"
   ]
  },
  {
   "cell_type": "markdown",
   "id": "43353a09",
   "metadata": {},
   "source": [
    "We can notice also the presence of \\n in the text, so we are going to remove it."
   ]
  },
  {
   "cell_type": "code",
   "execution_count": 7,
   "id": "2eed80a1",
   "metadata": {},
   "outputs": [
    {
     "name": "stderr",
     "output_type": "stream",
     "text": [
      "<ipython-input-7-215fe46be90d>:1: FutureWarning: The default value of regex will change from True to False in a future version.\n",
      "  songs['text'] = songs['text'].str.replace(r'\\n', '')\n"
     ]
    }
   ],
   "source": [
    "songs['text'] = songs['text'].str.replace(r'\\n', '')"
   ]
  },
  {
   "cell_type": "markdown",
   "id": "e6271d40",
   "metadata": {},
   "source": [
    "\n",
    "\n",
    "After that, we use TF-IDF vectorizerthat calculates the TF-IDF score for each song lyric, word-by-word. \n",
    "\n",
    "Here, we pay particular attention to the arguments we can specify.\n"
   ]
  },
  {
   "cell_type": "code",
   "execution_count": 8,
   "id": "93251d18",
   "metadata": {},
   "outputs": [],
   "source": [
    "tfidf = TfidfVectorizer(analyzer='word', stop_words='english')"
   ]
  },
  {
   "cell_type": "code",
   "execution_count": 9,
   "id": "fd05c233",
   "metadata": {},
   "outputs": [],
   "source": [
    "lyrics_matrix = tfidf.fit_transform(songs['text'])"
   ]
  },
  {
   "cell_type": "markdown",
   "id": "4eee529f",
   "metadata": {},
   "source": [
    "\n",
    "How do we use this matrix for a recommendation?\n",
    "\n",
    "We now need to calculate the similarity of one lyric to another. We are going to use cosine similarity.\n",
    "\n",
    "We want to calculate the cosine similarity of each item with every other item in the dataset. So we just pass the lyrics_matrix as argument.\n"
   ]
  },
  {
   "cell_type": "code",
   "execution_count": 10,
   "id": "ae1e7ca9",
   "metadata": {},
   "outputs": [],
   "source": [
    "cosine_similarities = cosine_similarity(lyrics_matrix) "
   ]
  },
  {
   "cell_type": "markdown",
   "id": "063c6aac",
   "metadata": {},
   "source": [
    "\n",
    "\n",
    "Once we get the similarities, we'll store in a dictionary the names of the 50 most similar songs for each song in our dataset.\n"
   ]
  },
  {
   "cell_type": "code",
   "execution_count": 11,
   "id": "63ca5540",
   "metadata": {},
   "outputs": [],
   "source": [
    "similarities = {}"
   ]
  },
  {
   "cell_type": "code",
   "execution_count": 24,
   "id": "b4a27a75",
   "metadata": {},
   "outputs": [],
   "source": [
    "for i in range(len(cosine_similarities)):\n",
    "    # Now we'll sort each element in cosine_similarities and get the indexes of the songs. \n",
    "    similar_indices = cosine_similarities[i].argsort()[:-50:-1] \n",
    "    # After that, we'll store in similarities each name of the 50 most similar songs.\n",
    "    # Except the first one that is the same song.\n",
    "    similarities[songs['song'].iloc[i]] = [(cosine_similarities[i][x], songs['song'][x], songs['artist'][x]) for x in similar_indices][1:]"
   ]
  },
  {
   "cell_type": "markdown",
   "id": "a2b9377c",
   "metadata": {},
   "source": [
    "\n",
    "After that, all the magic happens. We can use that similarity scores to access the most similar items and give a recommendation.\n",
    "\n",
    "For that, we'll define our Content based recommender class.\n"
   ]
  },
  {
   "cell_type": "code",
   "execution_count": 25,
   "id": "4fb94b24",
   "metadata": {},
   "outputs": [],
   "source": [
    "class ContentBasedRecommender:\n",
    "    def __init__(self, matrix):\n",
    "        self.matrix_similar = matrix\n",
    "\n",
    "    def _print_message(self, song, recom_song):\n",
    "        rec_items = len(recom_song)\n",
    "        \n",
    "        print(f'The {rec_items} recommended songs for {song} are:')\n",
    "        for i in range(rec_items):\n",
    "            print(f\"Number {i+1}:\")\n",
    "            print(f\"{recom_song[i][1]} by {recom_song[i][2]} with {round(recom_song[i][0], 3)} similarity score\") \n",
    "            print(\"--------------------\")\n",
    "        \n",
    "    def recommend(self, recommendation):\n",
    "        # Get song to find recommendations for\n",
    "        song = recommendation['song']\n",
    "        # Get number of songs to recommend\n",
    "        number_songs = recommendation['number_songs']\n",
    "        # Get the number of songs most similars from matrix similarities\n",
    "        recom_song = self.matrix_similar[song][:number_songs]\n",
    "        # print each item\n",
    "        self._print_message(song=song, recom_song=recom_song)"
   ]
  },
  {
   "cell_type": "markdown",
   "id": "68bd2f51",
   "metadata": {},
   "source": [
    "Now, instantiate class"
   ]
  },
  {
   "cell_type": "code",
   "execution_count": 26,
   "id": "358dd61b",
   "metadata": {},
   "outputs": [],
   "source": [
    "recommedations = ContentBasedRecommender(similarities)"
   ]
  },
  {
   "cell_type": "markdown",
   "id": "15aeaece",
   "metadata": {},
   "source": [
    "Then, we are ready to pick a song from the dataset and make a recommendation."
   ]
  },
  {
   "cell_type": "code",
   "execution_count": 27,
   "id": "31a94adc",
   "metadata": {},
   "outputs": [],
   "source": [
    "recommendation = {\n",
    "    \"song\": songs['song'].iloc[10],\n",
    "    \"number_songs\": 4 \n",
    "}"
   ]
  },
  {
   "cell_type": "code",
   "execution_count": 28,
   "id": "0762fd9e",
   "metadata": {},
   "outputs": [
    {
     "name": "stdout",
     "output_type": "stream",
     "text": [
      "The 4 recommended songs for Not Behind The Fighter Jet are:\n",
      "Number 1:\n",
      "It's All Coming Back To Me Now by Celine Dion with 0.131 similarity score\n",
      "--------------------\n",
      "Number 2:\n",
      "Do It by Chris Brown with 0.11 similarity score\n",
      "--------------------\n",
      "Number 3:\n",
      "Backyard Brawl by Alice Cooper with 0.1 similarity score\n",
      "--------------------\n",
      "Number 4:\n",
      "Come On Back Jack by Nina Simone with 0.1 similarity score\n",
      "--------------------\n"
     ]
    }
   ],
   "source": [
    "recommedations.recommend(recommendation)"
   ]
  },
  {
   "cell_type": "markdown",
   "id": "043e0349",
   "metadata": {},
   "source": [
    "And we can pick another random song and recommend again:"
   ]
  },
  {
   "cell_type": "code",
   "execution_count": 29,
   "id": "b2ea0053",
   "metadata": {},
   "outputs": [],
   "source": [
    "recommendation2 = {\n",
    "    \"song\": songs['song'].iloc[120],\n",
    "    \"number_songs\": 4 \n",
    "}"
   ]
  },
  {
   "cell_type": "code",
   "execution_count": 30,
   "id": "d292fbe4",
   "metadata": {},
   "outputs": [
    {
     "name": "stdout",
     "output_type": "stream",
     "text": [
      "The 4 recommended songs for Constantly are:\n",
      "Number 1:\n",
      "Constantly by Vanessa Williams with 0.332 similarity score\n",
      "--------------------\n",
      "Number 2:\n",
      "Sonny's Burning by Nick Cave with 0.299 similarity score\n",
      "--------------------\n",
      "Number 3:\n",
      "Old Flame, New Fire by Hank Williams Jr. with 0.221 similarity score\n",
      "--------------------\n",
      "Number 4:\n",
      "Fan The Flame by The Temptations with 0.208 similarity score\n",
      "--------------------\n"
     ]
    }
   ],
   "source": [
    "recommedations.recommend(recommendation2)"
   ]
  },
  {
   "cell_type": "code",
   "execution_count": null,
   "id": "bc47429a",
   "metadata": {},
   "outputs": [],
   "source": []
  }
 ],
 "metadata": {
  "kernelspec": {
   "display_name": "Python 3",
   "language": "python",
   "name": "python3"
  },
  "language_info": {
   "codemirror_mode": {
    "name": "ipython",
    "version": 3
   },
   "file_extension": ".py",
   "mimetype": "text/x-python",
   "name": "python",
   "nbconvert_exporter": "python",
   "pygments_lexer": "ipython3",
   "version": "3.8.8"
  }
 },
 "nbformat": 4,
 "nbformat_minor": 5
}
